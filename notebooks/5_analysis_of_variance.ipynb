{
 "cells": [
  {
   "cell_type": "markdown",
   "id": "05f6cd7e-2b24-4ae6-ae8d-91482a840357",
   "metadata": {},
   "source": [
    "# ANOVA\n",
    "\n",
    "Analysis of Variance\n",
    "\n",
    "---\n",
    "\n",
    "ANOVA is a statistical test used to compare the means of multiple groups, determining if there are statistically significant differences between them by analyzing the variance between the groups."
   ]
  },
  {
   "cell_type": "code",
   "execution_count": 10,
   "id": "1b52c3d1-8213-4223-b9cc-44bdc48716f2",
   "metadata": {},
   "outputs": [],
   "source": [
    "# Import statements\n",
    "import scipy.stats as stats\n",
    "import pandas as pd"
   ]
  },
  {
   "cell_type": "markdown",
   "id": "4d83d0bd-77ee-4b99-a439-16e739fb700c",
   "metadata": {},
   "source": [
    "## Data Preparation"
   ]
  },
  {
   "cell_type": "code",
   "execution_count": 11,
   "id": "5d97e465-dea4-4385-8304-d0349cfc73bb",
   "metadata": {},
   "outputs": [
    {
     "data": {
      "text/html": [
       "<div>\n",
       "<style scoped>\n",
       "    .dataframe tbody tr th:only-of-type {\n",
       "        vertical-align: middle;\n",
       "    }\n",
       "\n",
       "    .dataframe tbody tr th {\n",
       "        vertical-align: top;\n",
       "    }\n",
       "\n",
       "    .dataframe thead th {\n",
       "        text-align: right;\n",
       "    }\n",
       "</style>\n",
       "<table border=\"1\" class=\"dataframe\">\n",
       "  <thead>\n",
       "    <tr style=\"text-align: right;\">\n",
       "      <th></th>\n",
       "      <th>Dispatch_Time</th>\n",
       "      <th>ID</th>\n",
       "      <th>Incident_Type</th>\n",
       "      <th>Priority_Number</th>\n",
       "      <th>Units_Arrived_At_Scene</th>\n",
       "      <th>FSA</th>\n",
       "    </tr>\n",
       "  </thead>\n",
       "  <tbody>\n",
       "    <tr>\n",
       "      <th>0</th>\n",
       "      <td>2010-01-01 00:01:36</td>\n",
       "      <td>3061660</td>\n",
       "      <td>Medical</td>\n",
       "      <td>4</td>\n",
       "      <td>2</td>\n",
       "      <td>M5R</td>\n",
       "    </tr>\n",
       "    <tr>\n",
       "      <th>1</th>\n",
       "      <td>2010-01-01 00:04:23</td>\n",
       "      <td>3061663</td>\n",
       "      <td>Medical</td>\n",
       "      <td>1</td>\n",
       "      <td>1</td>\n",
       "      <td>M5V</td>\n",
       "    </tr>\n",
       "    <tr>\n",
       "      <th>2</th>\n",
       "      <td>2010-01-01 00:05:52</td>\n",
       "      <td>3061664</td>\n",
       "      <td>Medical</td>\n",
       "      <td>5</td>\n",
       "      <td>1</td>\n",
       "      <td>M5N</td>\n",
       "    </tr>\n",
       "    <tr>\n",
       "      <th>3</th>\n",
       "      <td>2010-01-01 00:09:53</td>\n",
       "      <td>3061667</td>\n",
       "      <td>Medical</td>\n",
       "      <td>1</td>\n",
       "      <td>1</td>\n",
       "      <td>M4Y</td>\n",
       "    </tr>\n",
       "    <tr>\n",
       "      <th>4</th>\n",
       "      <td>2010-01-01 00:10:36</td>\n",
       "      <td>3061668</td>\n",
       "      <td>Medical</td>\n",
       "      <td>1</td>\n",
       "      <td>2</td>\n",
       "      <td>M6K</td>\n",
       "    </tr>\n",
       "    <tr>\n",
       "      <th>...</th>\n",
       "      <td>...</td>\n",
       "      <td>...</td>\n",
       "      <td>...</td>\n",
       "      <td>...</td>\n",
       "      <td>...</td>\n",
       "      <td>...</td>\n",
       "    </tr>\n",
       "    <tr>\n",
       "      <th>204800</th>\n",
       "      <td>2010-12-31 23:54:16</td>\n",
       "      <td>3364482</td>\n",
       "      <td>Medical</td>\n",
       "      <td>4</td>\n",
       "      <td>1</td>\n",
       "      <td>M5B</td>\n",
       "    </tr>\n",
       "    <tr>\n",
       "      <th>204801</th>\n",
       "      <td>2010-12-31 23:54:35</td>\n",
       "      <td>3364481</td>\n",
       "      <td>Medical</td>\n",
       "      <td>4</td>\n",
       "      <td>1</td>\n",
       "      <td>M1H</td>\n",
       "    </tr>\n",
       "    <tr>\n",
       "      <th>204802</th>\n",
       "      <td>2010-12-31 23:54:40</td>\n",
       "      <td>3364480</td>\n",
       "      <td>Medical</td>\n",
       "      <td>1</td>\n",
       "      <td>1</td>\n",
       "      <td>M4X</td>\n",
       "    </tr>\n",
       "    <tr>\n",
       "      <th>204803</th>\n",
       "      <td>2010-12-31 23:57:24</td>\n",
       "      <td>3364485</td>\n",
       "      <td>Medical</td>\n",
       "      <td>1</td>\n",
       "      <td>1</td>\n",
       "      <td>M6K</td>\n",
       "    </tr>\n",
       "    <tr>\n",
       "      <th>204804</th>\n",
       "      <td>2010-12-31 23:57:27</td>\n",
       "      <td>3364487</td>\n",
       "      <td>Medical</td>\n",
       "      <td>1</td>\n",
       "      <td>1</td>\n",
       "      <td>M1W</td>\n",
       "    </tr>\n",
       "  </tbody>\n",
       "</table>\n",
       "<p>204805 rows × 6 columns</p>\n",
       "</div>"
      ],
      "text/plain": [
       "              Dispatch_Time       ID Incident_Type  Priority_Number  \\\n",
       "0       2010-01-01 00:01:36  3061660       Medical                4   \n",
       "1       2010-01-01 00:04:23  3061663       Medical                1   \n",
       "2       2010-01-01 00:05:52  3061664       Medical                5   \n",
       "3       2010-01-01 00:09:53  3061667       Medical                1   \n",
       "4       2010-01-01 00:10:36  3061668       Medical                1   \n",
       "...                     ...      ...           ...              ...   \n",
       "204800  2010-12-31 23:54:16  3364482       Medical                4   \n",
       "204801  2010-12-31 23:54:35  3364481       Medical                4   \n",
       "204802  2010-12-31 23:54:40  3364480       Medical                1   \n",
       "204803  2010-12-31 23:57:24  3364485       Medical                1   \n",
       "204804  2010-12-31 23:57:27  3364487       Medical                1   \n",
       "\n",
       "        Units_Arrived_At_Scene  FSA  \n",
       "0                            2  M5R  \n",
       "1                            1  M5V  \n",
       "2                            1  M5N  \n",
       "3                            1  M4Y  \n",
       "4                            2  M6K  \n",
       "...                        ...  ...  \n",
       "204800                       1  M5B  \n",
       "204801                       1  M1H  \n",
       "204802                       1  M4X  \n",
       "204803                       1  M6K  \n",
       "204804                       1  M1W  \n",
       "\n",
       "[204805 rows x 6 columns]"
      ]
     },
     "metadata": {},
     "output_type": "display_data"
    }
   ],
   "source": [
    "# Load the dataset\n",
    "tps_incidents = pd.read_csv('../data/tps_incident_data_2010.csv')\n",
    "display(tps_incidents)"
   ]
  },
  {
   "cell_type": "code",
   "execution_count": 12,
   "id": "dc6e1e2c-6d69-450f-9fb6-3b9c365b3eb6",
   "metadata": {},
   "outputs": [],
   "source": [
    "# Convert Dispatch_Time to a datetime format\n",
    "tps_incidents['Dispatch_Time_Datetime'] = pd.to_datetime(tps_incidents['Dispatch_Time'])\n",
    "\n",
    "# Set Dispatch_Time as the index\n",
    "tps_incidents.set_index('Dispatch_Time_Datetime', inplace=True)\n",
    "\n",
    "# Resample the data to an hourly time interval and aggregate by count (number of incidents per day)\n",
    "daily_counts = tps_incidents.resample('D').size()"
   ]
  },
  {
   "cell_type": "code",
   "execution_count": 13,
   "id": "48bd6fb9-fe13-4c3a-b4f0-ee92ad395036",
   "metadata": {},
   "outputs": [
    {
     "data": {
      "text/html": [
       "<div>\n",
       "<style scoped>\n",
       "    .dataframe tbody tr th:only-of-type {\n",
       "        vertical-align: middle;\n",
       "    }\n",
       "\n",
       "    .dataframe tbody tr th {\n",
       "        vertical-align: top;\n",
       "    }\n",
       "\n",
       "    .dataframe thead th {\n",
       "        text-align: right;\n",
       "    }\n",
       "</style>\n",
       "<table border=\"1\" class=\"dataframe\">\n",
       "  <thead>\n",
       "    <tr style=\"text-align: right;\">\n",
       "      <th></th>\n",
       "      <th>Count</th>\n",
       "    </tr>\n",
       "    <tr>\n",
       "      <th>Dispatch_Time_Datetime</th>\n",
       "      <th></th>\n",
       "    </tr>\n",
       "  </thead>\n",
       "  <tbody>\n",
       "    <tr>\n",
       "      <th>2010-01-01</th>\n",
       "      <td>609</td>\n",
       "    </tr>\n",
       "    <tr>\n",
       "      <th>2010-01-02</th>\n",
       "      <td>478</td>\n",
       "    </tr>\n",
       "    <tr>\n",
       "      <th>2010-01-03</th>\n",
       "      <td>526</td>\n",
       "    </tr>\n",
       "    <tr>\n",
       "      <th>2010-01-04</th>\n",
       "      <td>497</td>\n",
       "    </tr>\n",
       "    <tr>\n",
       "      <th>2010-01-05</th>\n",
       "      <td>545</td>\n",
       "    </tr>\n",
       "    <tr>\n",
       "      <th>...</th>\n",
       "      <td>...</td>\n",
       "    </tr>\n",
       "    <tr>\n",
       "      <th>2010-12-27</th>\n",
       "      <td>616</td>\n",
       "    </tr>\n",
       "    <tr>\n",
       "      <th>2010-12-28</th>\n",
       "      <td>620</td>\n",
       "    </tr>\n",
       "    <tr>\n",
       "      <th>2010-12-29</th>\n",
       "      <td>605</td>\n",
       "    </tr>\n",
       "    <tr>\n",
       "      <th>2010-12-30</th>\n",
       "      <td>631</td>\n",
       "    </tr>\n",
       "    <tr>\n",
       "      <th>2010-12-31</th>\n",
       "      <td>646</td>\n",
       "    </tr>\n",
       "  </tbody>\n",
       "</table>\n",
       "<p>365 rows × 1 columns</p>\n",
       "</div>"
      ],
      "text/plain": [
       "                        Count\n",
       "Dispatch_Time_Datetime       \n",
       "2010-01-01                609\n",
       "2010-01-02                478\n",
       "2010-01-03                526\n",
       "2010-01-04                497\n",
       "2010-01-05                545\n",
       "...                       ...\n",
       "2010-12-27                616\n",
       "2010-12-28                620\n",
       "2010-12-29                605\n",
       "2010-12-30                631\n",
       "2010-12-31                646\n",
       "\n",
       "[365 rows x 1 columns]"
      ]
     },
     "metadata": {},
     "output_type": "display_data"
    }
   ],
   "source": [
    "# Drop any dates in 2011 from daily_counts\n",
    "daily_counts = daily_counts[daily_counts.index < \"2011-01-01\"]\n",
    "\n",
    "# Convert to a dataframe\n",
    "daily_counts = daily_counts.to_frame(name=\"Count\")\n",
    "display(daily_counts)"
   ]
  },
  {
   "cell_type": "markdown",
   "id": "fd448e4b-92c7-4b94-9f8d-08a9e6f684d2",
   "metadata": {},
   "source": [
    "## ANOVA by Month\n",
    "\n",
    "Since the p-value of the F distribution is <0.05, we can determine that there is a significant difference in incident counts between months."
   ]
  },
  {
   "cell_type": "code",
   "execution_count": 14,
   "id": "567bc372-4aba-406b-9305-81474326a8e2",
   "metadata": {},
   "outputs": [
    {
     "name": "stdout",
     "output_type": "stream",
     "text": [
      "ANOVA F-statistic: 44.2897, \n",
      "p-value: 0.0000\n"
     ]
    }
   ],
   "source": [
    "# Add a new column for the month\n",
    "daily_counts['Month'] = daily_counts.index.month\n",
    "\n",
    "# Counts for each month\n",
    "monthly_counts = [daily_counts[daily_counts['Month'] == m]['Count'] for m in range(1, 13)]\n",
    "\n",
    "# Perform ANOVA\n",
    "f_stat, p_value = stats.f_oneway(*monthly_counts)\n",
    "\n",
    "# Display the results formatted to 4 decimal places\n",
    "print(f\"ANOVA F-statistic: {f_stat:.4f}, \\np-value: {p_value:.4f}\")"
   ]
  },
  {
   "cell_type": "markdown",
   "id": "3adbbb45-c57e-4595-9e38-617c67c83e31",
   "metadata": {},
   "source": [
    "## ANOVA by Day of the Week\n",
    "\n",
    "Since the p-value of the F distribution is <0.05, we can determine that there is a difference in incident counts between days of the week. But not as strong of a difference in incident counts between Months of the year."
   ]
  },
  {
   "cell_type": "code",
   "execution_count": 15,
   "id": "f66f445e-e7f6-4a48-8116-356a94987629",
   "metadata": {},
   "outputs": [
    {
     "name": "stdout",
     "output_type": "stream",
     "text": [
      "ANOVA F-statistic: 3.1110, \n",
      "p-value: 0.0055\n"
     ]
    }
   ],
   "source": [
    "# Create a column for the day of the week (Monday=0, Sunday=6)\n",
    "daily_counts[\"DayOfWeek\"] = daily_counts.index.dayofweek  \n",
    "\n",
    "# Group by day of the week\n",
    "weekly_counts = [daily_counts[daily_counts[\"DayOfWeek\"] == d][\"Count\"] for d in range(7)]\n",
    "\n",
    "# Perform ANOVA\n",
    "f_stat, p_value = stats.f_oneway(*weekly_counts)\n",
    "\n",
    "# Output results\n",
    "print(f\"ANOVA F-statistic: {f_stat:.4f}, \\np-value: {p_value:.4f}\")"
   ]
  },
  {
   "cell_type": "markdown",
   "id": "f3d45ca5-a890-4e8d-acb3-b0dd9d47a8bf",
   "metadata": {},
   "source": [
    "## ANOVA by Hours of the Day\n",
    "\n",
    "Since the p-value of the F distribution is <0.05, we can determine that there is an extremely significant difference in incident counts between hours of the day."
   ]
  },
  {
   "cell_type": "code",
   "execution_count": 21,
   "id": "1fe92f61-7f60-47de-9923-5e92ebda89db",
   "metadata": {},
   "outputs": [
    {
     "name": "stdout",
     "output_type": "stream",
     "text": [
      "ANOVA F-statistic: 579.7488, \n",
      "p-value: 0.0000\n"
     ]
    }
   ],
   "source": [
    "# Extract the hour and day from the Dispatch_Time timestamp\n",
    "tps_incidents['Hour'] = tps_incidents.index.hour\n",
    "tps_incidents[\"Date\"] = tps_incidents.index.date\n",
    "\n",
    "# Group by hour and count incidents\n",
    "hourly_counts = tps_incidents.groupby(['Date', 'Hour']).size().reset_index(name='Count')\n",
    "\n",
    "# Prepare ANOVA input: Create a list of daily incident counts for each hour (0-23) military time\n",
    "hourly_incidents = [hourly_counts[hourly_counts['Hour'] == h]['Count'].values for h in range(24)]\n",
    "\n",
    "# Perform ANOVA\n",
    "f_stat, p_value = stats.f_oneway(*hourly_incidents)\n",
    "\n",
    "# Output results\n",
    "print(f\"ANOVA F-statistic: {f_stat:.4f}, \\np-value: {p_value:.4f}\")"
   ]
  },
  {
   "cell_type": "code",
   "execution_count": null,
   "id": "0d8a76d6-257b-4af0-a771-f71e4478c5a3",
   "metadata": {},
   "outputs": [],
   "source": []
  }
 ],
 "metadata": {
  "kernelspec": {
   "display_name": "Python 3 (ipykernel)",
   "language": "python",
   "name": "python3"
  },
  "language_info": {
   "codemirror_mode": {
    "name": "ipython",
    "version": 3
   },
   "file_extension": ".py",
   "mimetype": "text/x-python",
   "name": "python",
   "nbconvert_exporter": "python",
   "pygments_lexer": "ipython3",
   "version": "3.12.2"
  }
 },
 "nbformat": 4,
 "nbformat_minor": 5
}
