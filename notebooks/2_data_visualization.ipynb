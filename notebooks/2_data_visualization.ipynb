{
 "cells": [
  {
   "cell_type": "markdown",
   "id": "25336fd1-d8dd-4071-b55d-ab8d50311250",
   "metadata": {},
   "source": [
    "# Data Visualization\n",
    "\n",
    "*Erin Cameron*\n",
    "\n",
    "---"
   ]
  },
  {
   "cell_type": "code",
   "execution_count": null,
   "id": "08053ec9-aa42-4190-a710-98414b1ee5aa",
   "metadata": {},
   "outputs": [],
   "source": []
  }
 ],
 "metadata": {
  "kernelspec": {
   "display_name": "Python 3 (ipykernel)",
   "language": "python",
   "name": "python3"
  },
  "language_info": {
   "codemirror_mode": {
    "name": "ipython",
    "version": 3
   },
   "file_extension": ".py",
   "mimetype": "text/x-python",
   "name": "python",
   "nbconvert_exporter": "python",
   "pygments_lexer": "ipython3",
   "version": "3.11.7"
  }
 },
 "nbformat": 4,
 "nbformat_minor": 5
}
