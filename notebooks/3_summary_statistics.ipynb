{
 "cells": [
  {
   "cell_type": "markdown",
   "id": "9966aa6b-975b-4755-ae10-50fd3433d195",
   "metadata": {},
   "source": [
    "# Summary Statistics\n",
    "\n",
    "*Erin Cameron*\n",
    "\n",
    "---"
   ]
  },
  {
   "cell_type": "markdown",
   "id": "1a1cd747-5ce3-4c5c-acf6-5ade81794e97",
   "metadata": {},
   "source": [
    "## 1.0) Setup"
   ]
  },
  {
   "cell_type": "code",
   "execution_count": 1,
   "id": "7cbfbb08-9484-44a2-b27d-165fa8575057",
   "metadata": {},
   "outputs": [],
   "source": [
    "# Import packages\n",
    "import pandas as pd"
   ]
  },
  {
   "cell_type": "code",
   "execution_count": 2,
   "id": "a48caa37-250f-4865-8f26-5bbb0ef9b157",
   "metadata": {},
   "outputs": [
    {
     "data": {
      "text/html": [
       "<div>\n",
       "<style scoped>\n",
       "    .dataframe tbody tr th:only-of-type {\n",
       "        vertical-align: middle;\n",
       "    }\n",
       "\n",
       "    .dataframe tbody tr th {\n",
       "        vertical-align: top;\n",
       "    }\n",
       "\n",
       "    .dataframe thead th {\n",
       "        text-align: right;\n",
       "    }\n",
       "</style>\n",
       "<table border=\"1\" class=\"dataframe\">\n",
       "  <thead>\n",
       "    <tr style=\"text-align: right;\">\n",
       "      <th></th>\n",
       "      <th>ID</th>\n",
       "      <th>Incident_Type</th>\n",
       "      <th>Priority_Number</th>\n",
       "      <th>Units_Arrived_At_Scene</th>\n",
       "      <th>FSA</th>\n",
       "    </tr>\n",
       "    <tr>\n",
       "      <th>Dispatch_Time</th>\n",
       "      <th></th>\n",
       "      <th></th>\n",
       "      <th></th>\n",
       "      <th></th>\n",
       "      <th></th>\n",
       "    </tr>\n",
       "  </thead>\n",
       "  <tbody>\n",
       "    <tr>\n",
       "      <th>2010-01-01 00:01:36</th>\n",
       "      <td>3061660</td>\n",
       "      <td>Medical</td>\n",
       "      <td>4</td>\n",
       "      <td>2</td>\n",
       "      <td>M5R</td>\n",
       "    </tr>\n",
       "    <tr>\n",
       "      <th>2010-01-01 00:04:23</th>\n",
       "      <td>3061663</td>\n",
       "      <td>Medical</td>\n",
       "      <td>1</td>\n",
       "      <td>1</td>\n",
       "      <td>M5V</td>\n",
       "    </tr>\n",
       "    <tr>\n",
       "      <th>2010-01-01 00:05:52</th>\n",
       "      <td>3061664</td>\n",
       "      <td>Medical</td>\n",
       "      <td>5</td>\n",
       "      <td>1</td>\n",
       "      <td>M5N</td>\n",
       "    </tr>\n",
       "    <tr>\n",
       "      <th>2010-01-01 00:09:53</th>\n",
       "      <td>3061667</td>\n",
       "      <td>Medical</td>\n",
       "      <td>1</td>\n",
       "      <td>1</td>\n",
       "      <td>M4Y</td>\n",
       "    </tr>\n",
       "    <tr>\n",
       "      <th>2010-01-01 00:10:36</th>\n",
       "      <td>3061668</td>\n",
       "      <td>Medical</td>\n",
       "      <td>1</td>\n",
       "      <td>2</td>\n",
       "      <td>M6K</td>\n",
       "    </tr>\n",
       "    <tr>\n",
       "      <th>...</th>\n",
       "      <td>...</td>\n",
       "      <td>...</td>\n",
       "      <td>...</td>\n",
       "      <td>...</td>\n",
       "      <td>...</td>\n",
       "    </tr>\n",
       "    <tr>\n",
       "      <th>2010-12-31 23:54:16</th>\n",
       "      <td>3364482</td>\n",
       "      <td>Medical</td>\n",
       "      <td>4</td>\n",
       "      <td>1</td>\n",
       "      <td>M5B</td>\n",
       "    </tr>\n",
       "    <tr>\n",
       "      <th>2010-12-31 23:54:35</th>\n",
       "      <td>3364481</td>\n",
       "      <td>Medical</td>\n",
       "      <td>4</td>\n",
       "      <td>1</td>\n",
       "      <td>M1H</td>\n",
       "    </tr>\n",
       "    <tr>\n",
       "      <th>2010-12-31 23:54:40</th>\n",
       "      <td>3364480</td>\n",
       "      <td>Medical</td>\n",
       "      <td>1</td>\n",
       "      <td>1</td>\n",
       "      <td>M4X</td>\n",
       "    </tr>\n",
       "    <tr>\n",
       "      <th>2010-12-31 23:57:24</th>\n",
       "      <td>3364485</td>\n",
       "      <td>Medical</td>\n",
       "      <td>1</td>\n",
       "      <td>1</td>\n",
       "      <td>M6K</td>\n",
       "    </tr>\n",
       "    <tr>\n",
       "      <th>2010-12-31 23:57:27</th>\n",
       "      <td>3364487</td>\n",
       "      <td>Medical</td>\n",
       "      <td>1</td>\n",
       "      <td>1</td>\n",
       "      <td>M1W</td>\n",
       "    </tr>\n",
       "  </tbody>\n",
       "</table>\n",
       "<p>204805 rows × 5 columns</p>\n",
       "</div>"
      ],
      "text/plain": [
       "                          ID Incident_Type  Priority_Number  \\\n",
       "Dispatch_Time                                                 \n",
       "2010-01-01 00:01:36  3061660       Medical                4   \n",
       "2010-01-01 00:04:23  3061663       Medical                1   \n",
       "2010-01-01 00:05:52  3061664       Medical                5   \n",
       "2010-01-01 00:09:53  3061667       Medical                1   \n",
       "2010-01-01 00:10:36  3061668       Medical                1   \n",
       "...                      ...           ...              ...   \n",
       "2010-12-31 23:54:16  3364482       Medical                4   \n",
       "2010-12-31 23:54:35  3364481       Medical                4   \n",
       "2010-12-31 23:54:40  3364480       Medical                1   \n",
       "2010-12-31 23:57:24  3364485       Medical                1   \n",
       "2010-12-31 23:57:27  3364487       Medical                1   \n",
       "\n",
       "                     Units_Arrived_At_Scene  FSA  \n",
       "Dispatch_Time                                     \n",
       "2010-01-01 00:01:36                       2  M5R  \n",
       "2010-01-01 00:04:23                       1  M5V  \n",
       "2010-01-01 00:05:52                       1  M5N  \n",
       "2010-01-01 00:09:53                       1  M4Y  \n",
       "2010-01-01 00:10:36                       2  M6K  \n",
       "...                                     ...  ...  \n",
       "2010-12-31 23:54:16                       1  M5B  \n",
       "2010-12-31 23:54:35                       1  M1H  \n",
       "2010-12-31 23:54:40                       1  M4X  \n",
       "2010-12-31 23:57:24                       1  M6K  \n",
       "2010-12-31 23:57:27                       1  M1W  \n",
       "\n",
       "[204805 rows x 5 columns]"
      ]
     },
     "metadata": {},
     "output_type": "display_data"
    }
   ],
   "source": [
    "# Read the dispatch dataset in\n",
    "dispatches = pd.read_csv(r'../data/tps_incident_data_2010.csv', parse_dates=True, index_col=\"Dispatch_Time\")\n",
    "dispatches = dispatches.sort_index()\n",
    "display(dispatches)"
   ]
  },
  {
   "cell_type": "markdown",
   "id": "02dee5b3-6314-43b8-b00f-3683db9fe641",
   "metadata": {},
   "source": [
    "## 2.0) Summary Statistics"
   ]
  },
  {
   "cell_type": "markdown",
   "id": "0de4f7f9-bd30-47e5-912b-5e032e32b1ab",
   "metadata": {},
   "source": [
    "### 2.1) Dispatch Volume"
   ]
  },
  {
   "cell_type": "code",
   "execution_count": 3,
   "id": "da8373cc-66da-499c-a656-7de2e6f8cb52",
   "metadata": {},
   "outputs": [
    {
     "data": {
      "text/plain": [
       "day_of_year\n",
       "1      609\n",
       "2      478\n",
       "3      526\n",
       "4      497\n",
       "5      545\n",
       "      ... \n",
       "361    616\n",
       "362    620\n",
       "363    605\n",
       "364    631\n",
       "365    646\n",
       "Length: 365, dtype: int64"
      ]
     },
     "metadata": {},
     "output_type": "display_data"
    }
   ],
   "source": [
    "# Extract date from Dispatch_Time\n",
    "dispatches['day_of_year'] = dispatches.index.dayofyear\n",
    "\n",
    "# Count dispatches by the day\n",
    "daily_counts = dispatches.groupby('day_of_year').size()\n",
    "display(daily_counts)"
   ]
  },
  {
   "cell_type": "code",
   "execution_count": 44,
   "id": "a822b9f1-8ab1-49cc-977e-fb832b590d39",
   "metadata": {},
   "outputs": [
    {
     "name": "stdout",
     "output_type": "stream",
     "text": [
      "Highest dispatch volume day of the year: 186 = July 5th\n"
     ]
    }
   ],
   "source": [
    "# Locate the highest dispatch volume day of the year\n",
    "highest_dispatch_volume = daily_counts.max()\n",
    "highest_dispatch_volume_day = daily_counts[daily_counts == highest_dispatch_volume].index[0]\n",
    "print(f'Highest dispatch volume day of the year: {highest_dispatch_volume_day} = July 5th')"
   ]
  },
  {
   "cell_type": "code",
   "execution_count": 43,
   "id": "66e32636-c887-443a-9cfe-45c1366dcb32",
   "metadata": {},
   "outputs": [
    {
     "name": "stdout",
     "output_type": "stream",
     "text": [
      "Total dispatches: 204805\n"
     ]
    }
   ],
   "source": [
    "# Calculate the total number of dispatches\n",
    "total_dispatches = dispatches.shape[0]\n",
    "print(f'Total dispatches: {total_dispatches}')"
   ]
  },
  {
   "cell_type": "markdown",
   "id": "bcc19175-8cc2-43ec-b544-bd3f160fb384",
   "metadata": {},
   "source": [
    "### 2.2) Dispatch Volume by Incident_Type"
   ]
  },
  {
   "cell_type": "code",
   "execution_count": 5,
   "id": "221f4841-0d12-4dfc-b7bb-46013b7ff3e7",
   "metadata": {},
   "outputs": [
    {
     "name": "stdout",
     "output_type": "stream",
     "text": [
      "Incident_Type\n",
      "Airport Standby               34\n",
      "Emergency Transfer          3743\n",
      "Fire                        1094\n",
      "Medical                   186600\n",
      "Motor Vehicle Accident     13334\n",
      "dtype: int64\n"
     ]
    }
   ],
   "source": [
    "dispatch_volume_by_type = dispatches.groupby('Incident_Type').size()\n",
    "print(dispatch_volume_by_type)"
   ]
  },
  {
   "cell_type": "markdown",
   "id": "dfa75ece-77b0-4899-aefa-d19b4ed2ff44",
   "metadata": {},
   "source": [
    "### 2.3) Dispatch Volume by FSA"
   ]
  },
  {
   "cell_type": "code",
   "execution_count": 32,
   "id": "b2018621-8d64-48e4-aaba-956e0dba5481",
   "metadata": {},
   "outputs": [
    {
     "name": "stdout",
     "output_type": "stream",
     "text": [
      "FSA\n",
      "0      18\n",
      "K0K     1\n",
      "K9A     2\n",
      "K9J     9\n",
      "K9V     2\n",
      "dtype: int64\n"
     ]
    }
   ],
   "source": [
    "dispatch_volume_by_fsa = dispatches.groupby('FSA').size()\n",
    "print(dispatch_volume_by_fsa.head())"
   ]
  },
  {
   "cell_type": "code",
   "execution_count": 31,
   "id": "2d34e0f7-6d30-468a-940b-1562b1bfa26e",
   "metadata": {},
   "outputs": [
    {
     "name": "stdout",
     "output_type": "stream",
     "text": [
      "The highest dispatch volume was: 4481\n",
      "from the FSA: M6K\n"
     ]
    }
   ],
   "source": [
    "# Show the highest dispatch volume FSA\n",
    "highest_dispatch_volume = dispatch_volume_by_fsa.max()\n",
    "highest_dispatch_volume_fsa = dispatch_volume_by_fsa[dispatch_volume_by_fsa == highest_dispatch_volume].index[0]\n",
    "print(f'The highest dispatch volume was: {highest_dispatch_volume}\\nfrom the FSA: {highest_dispatch_volume_fsa}')"
   ]
  },
  {
   "cell_type": "markdown",
   "id": "c1a0d75d-0ebe-4005-a6e5-8c67380d6151",
   "metadata": {},
   "source": [
    "### 2.4) Average Time Between Dispatches"
   ]
  },
  {
   "cell_type": "code",
   "execution_count": 21,
   "id": "520f995e-013a-4ff2-bec2-1e310017bd71",
   "metadata": {},
   "outputs": [
    {
     "name": "stdout",
     "output_type": "stream",
     "text": [
      "Average time between dispatches in seconds: 153.98\n",
      "Average time between dispatches in minutes: 2.57\n"
     ]
    }
   ],
   "source": [
    "# Convert the Dispatch_Time to datetime\n",
    "# dispatches = dispatches.reset_index()\n",
    "dispatches['time_diff'] = dispatches['Dispatch_Time'].diff().dt.total_seconds()\n",
    "avg_time_between_dispatches_sec = round(dispatches['time_diff'].mean(), 2)\n",
    "avg_time_between_dispatches_min = round(avg_time_between_dispatches_sec / 60, 2)\n",
    "\n",
    "print(f'Average time between dispatches in seconds: {avg_time_between_dispatches_sec}\\nAverage time between dispatches in minutes: {avg_time_between_dispatches_min}')"
   ]
  },
  {
   "cell_type": "markdown",
   "id": "82c08c6e-c821-4bf3-92b0-628e01915453",
   "metadata": {},
   "source": [
    "### 2.5) Proportion of Dispatches by Priority"
   ]
  },
  {
   "cell_type": "code",
   "execution_count": 33,
   "id": "16c19c60-1309-4bf8-a029-b9d15a7d1690",
   "metadata": {},
   "outputs": [
    {
     "name": "stdout",
     "output_type": "stream",
     "text": [
      "Priority_Number\n",
      "1     0.345455\n",
      "4     0.285765\n",
      "5     0.169386\n",
      "3     0.154435\n",
      "9     0.022299\n",
      "11    0.015576\n",
      "12    0.005757\n",
      "13    0.001328\n",
      "Name: proportion, dtype: float64\n"
     ]
    }
   ],
   "source": [
    "priority_distribution = dispatches['Priority_Number'].value_counts(normalize=True)\n",
    "print(priority_distribution)"
   ]
  },
  {
   "cell_type": "markdown",
   "id": "63fd5c17-4792-45fc-a176-e087c6e98cf3",
   "metadata": {},
   "source": [
    "### 2.5) Dispatch Volume by Month"
   ]
  },
  {
   "cell_type": "code",
   "execution_count": 48,
   "id": "c1aa0947-f7ad-4a8c-85db-5ba22c1b65c9",
   "metadata": {},
   "outputs": [
    {
     "name": "stdout",
     "output_type": "stream",
     "text": [
      "month\n",
      "1     15860\n",
      "2     14183\n",
      "3     15443\n",
      "4     15510\n",
      "5     16662\n",
      "6     17381\n",
      "7     19399\n",
      "8     18547\n",
      "9     17708\n",
      "10    18082\n",
      "11    17232\n",
      "12    18798\n",
      "dtype: int64\n"
     ]
    }
   ],
   "source": [
    "dispatches['month'] = dispatches['Dispatch_Time'].dt.month\n",
    "monthly_call_volume = dispatches.groupby('month').size()\n",
    "print(monthly_call_volume)"
   ]
  },
  {
   "cell_type": "code",
   "execution_count": null,
   "id": "f24f8247-2c91-4091-bd17-bbf9b25787ef",
   "metadata": {},
   "outputs": [],
   "source": []
  }
 ],
 "metadata": {
  "kernelspec": {
   "display_name": "Python 3 (ipykernel)",
   "language": "python",
   "name": "python3"
  },
  "language_info": {
   "codemirror_mode": {
    "name": "ipython",
    "version": 3
   },
   "file_extension": ".py",
   "mimetype": "text/x-python",
   "name": "python",
   "nbconvert_exporter": "python",
   "pygments_lexer": "ipython3",
   "version": "3.11.7"
  }
 },
 "nbformat": 4,
 "nbformat_minor": 5
}
